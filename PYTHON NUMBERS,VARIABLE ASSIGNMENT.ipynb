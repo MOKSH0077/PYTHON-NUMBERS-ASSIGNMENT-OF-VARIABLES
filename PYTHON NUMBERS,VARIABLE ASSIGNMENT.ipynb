{
 "cells": [
  {
   "cell_type": "markdown",
   "id": "1dec1136-b2b4-496e-ac70-fb7e4638162d",
   "metadata": {},
   "source": [
    "# FIRST PROGRAMM OF PYHTON \n"
   ]
  },
  {
   "cell_type": "code",
   "execution_count": 1,
   "id": "d40f8b75-290e-4d01-bf74-495b2c51ff07",
   "metadata": {},
   "outputs": [
    {
     "name": "stdout",
     "output_type": "stream",
     "text": [
      "hello world\n"
     ]
    }
   ],
   "source": [
    "print('hello world')\n"
   ]
  },
  {
   "cell_type": "code",
   "execution_count": 7,
   "id": "3c6718e9-3d80-4e85-b8ca-6dd802c4ed59",
   "metadata": {},
   "outputs": [
    {
     "name": "stdout",
     "output_type": "stream",
     "text": [
      "my name is xyz\n"
     ]
    }
   ],
   "source": [
    "print('my name is xyz')"
   ]
  },
  {
   "cell_type": "code",
   "execution_count": 9,
   "id": "5291f2b8-4079-4a01-bbb2-08a028aa6d1d",
   "metadata": {},
   "outputs": [
    {
     "name": "stdout",
     "output_type": "stream",
     "text": [
      "hey i will win \n"
     ]
    }
   ],
   "source": [
    "print('''hey i will win ''')"
   ]
  },
  {
   "cell_type": "markdown",
   "id": "e52ec0d8-b85d-4507-be37-be6990f2d6ba",
   "metadata": {},
   "source": [
    "# PYTHON NUMBERS "
   ]
  },
  {
   "cell_type": "code",
   "execution_count": 10,
   "id": "ba4ae7d0-8f5e-49f4-b0ec-f47dd33f2353",
   "metadata": {},
   "outputs": [
    {
     "data": {
      "text/plain": [
       "30"
      ]
     },
     "execution_count": 10,
     "metadata": {},
     "output_type": "execute_result"
    }
   ],
   "source": [
    "20+10"
   ]
  },
  {
   "cell_type": "markdown",
   "id": "ec837364-7340-4d87-b1b4-ac0f1f7451a1",
   "metadata": {},
   "source": [
    "SIMPLE ADDITION"
   ]
  },
  {
   "cell_type": "code",
   "execution_count": 11,
   "id": "5c449d0a-e52d-44e2-b1cc-63b7f8ec2809",
   "metadata": {},
   "outputs": [
    {
     "data": {
      "text/plain": [
       "40"
      ]
     },
     "execution_count": 11,
     "metadata": {},
     "output_type": "execute_result"
    }
   ],
   "source": [
    "20*2"
   ]
  },
  {
   "cell_type": "markdown",
   "id": "9a172334-1dbf-446d-85c2-e11b702edef6",
   "metadata": {},
   "source": [
    "SIMPLE MULTIPLICATION"
   ]
  },
  {
   "cell_type": "code",
   "execution_count": 15,
   "id": "d652e6f5-8956-4a4a-a25c-f25e7e63eec4",
   "metadata": {},
   "outputs": [
    {
     "data": {
      "text/plain": [
       "int"
      ]
     },
     "execution_count": 15,
     "metadata": {},
     "output_type": "execute_result"
    }
   ],
   "source": [
    "type(20*5)"
   ]
  },
  {
   "cell_type": "code",
   "execution_count": 14,
   "id": "0c954a27-85c8-4646-9d2a-16bd1f592bab",
   "metadata": {},
   "outputs": [
    {
     "data": {
      "text/plain": [
       "float"
      ]
     },
     "execution_count": 14,
     "metadata": {},
     "output_type": "execute_result"
    }
   ],
   "source": [
    "type(20/3)"
   ]
  },
  {
   "cell_type": "markdown",
   "id": "d19e5ecf-156d-4d9f-8021-1913f10e10ca",
   "metadata": {},
   "source": [
    "HERE ARE TWO TYPES OF NUMBERS IN PYTHON I.E ( INTEGERS AND FLOATING POINT NUMBERS )"
   ]
  },
  {
   "cell_type": "code",
   "execution_count": 16,
   "id": "26ebb16b-b28e-4d3e-b0a5-887a3eb79ff8",
   "metadata": {},
   "outputs": [
    {
     "data": {
      "text/plain": [
       "400"
      ]
     },
     "execution_count": 16,
     "metadata": {},
     "output_type": "execute_result"
    }
   ],
   "source": [
    "20**2"
   ]
  },
  {
   "cell_type": "markdown",
   "id": "70a2f0bd-3647-4c4d-ac9f-5e3cfdc3b844",
   "metadata": {},
   "source": [
    "HERE WE USE \"**2\" TO MAKE SQUARE ROOT OF ANY NUMBER"
   ]
  },
  {
   "cell_type": "code",
   "execution_count": 17,
   "id": "023db152-9594-4e1e-9faf-33211a128e50",
   "metadata": {},
   "outputs": [
    {
     "data": {
      "text/plain": [
       "4.47213595499958"
      ]
     },
     "execution_count": 17,
     "metadata": {},
     "output_type": "execute_result"
    }
   ],
   "source": [
    "20**0.5"
   ]
  },
  {
   "cell_type": "markdown",
   "id": "bde7833f-a299-44b8-ae7d-f18490b44815",
   "metadata": {},
   "source": [
    "WE USE HERE \"**0.5\" TO PERFORM ROOT OF ANY NUMBER"
   ]
  },
  {
   "cell_type": "code",
   "execution_count": 18,
   "id": "74d0f9c3-b2cf-4327-a8a4-0846860881b6",
   "metadata": {},
   "outputs": [
    {
     "data": {
      "text/plain": [
       "2"
      ]
     },
     "execution_count": 18,
     "metadata": {},
     "output_type": "execute_result"
    }
   ],
   "source": [
    "20%3"
   ]
  },
  {
   "cell_type": "markdown",
   "id": "96e184be-57f9-4623-9f63-b861d5571cbd",
   "metadata": {},
   "source": [
    "HERE WHEN WE USE \"%\" WE GET AN REMAINDER AFTER DIVISION NOT FLOAT NUMBER TYPE ."
   ]
  },
  {
   "cell_type": "markdown",
   "id": "a5eb988b-4050-4898-a48a-94d546b33c1c",
   "metadata": {},
   "source": [
    "# VARIABLE ASSIGNMENTS"
   ]
  },
  {
   "cell_type": "code",
   "execution_count": 26,
   "id": "dd0e8faa-944a-4a71-b7de-c6f7d429c4a5",
   "metadata": {},
   "outputs": [],
   "source": [
    "assign_name='anyname'"
   ]
  },
  {
   "cell_type": "code",
   "execution_count": 27,
   "id": "e40a2b1f-2588-40fa-81aa-cf90f5994895",
   "metadata": {},
   "outputs": [
    {
     "data": {
      "text/plain": [
       "'anyname'"
      ]
     },
     "execution_count": 27,
     "metadata": {},
     "output_type": "execute_result"
    }
   ],
   "source": [
    "assign_name"
   ]
  },
  {
   "cell_type": "code",
   "execution_count": 28,
   "id": "2ad27060-61ab-4ecb-9062-9f67064dc1e4",
   "metadata": {},
   "outputs": [],
   "source": [
    "name='anyname you type'"
   ]
  },
  {
   "cell_type": "code",
   "execution_count": 29,
   "id": "c5aa63e1-4453-444b-9bcd-e728d40cf5b4",
   "metadata": {},
   "outputs": [
    {
     "data": {
      "text/plain": [
       "'anyname you type'"
      ]
     },
     "execution_count": 29,
     "metadata": {},
     "output_type": "execute_result"
    }
   ],
   "source": [
    "name"
   ]
  },
  {
   "cell_type": "code",
   "execution_count": 30,
   "id": "9cb9deb9-8fd7-450e-9541-f0e29cb07de1",
   "metadata": {},
   "outputs": [],
   "source": [
    "one_number_assignment=10\n",
    "two_number_assignmnt=20"
   ]
  },
  {
   "cell_type": "code",
   "execution_count": 34,
   "id": "9c68b801-3217-4937-940e-77d84b32973a",
   "metadata": {},
   "outputs": [],
   "source": [
    "sum_assignment=one_number_assignment+two_number_assignmnt"
   ]
  },
  {
   "cell_type": "code",
   "execution_count": 35,
   "id": "b6a705ba-c591-4067-b2b6-4447e9a38531",
   "metadata": {},
   "outputs": [
    {
     "data": {
      "text/plain": [
       "30"
      ]
     },
     "execution_count": 35,
     "metadata": {},
     "output_type": "execute_result"
    }
   ],
   "source": [
    "sum_assignment"
   ]
  },
  {
   "cell_type": "markdown",
   "id": "1ba46707-1129-4e09-8997-042cbd29561b",
   "metadata": {},
   "source": [
    "Python mein variable assignment ka matlab hai ek variable ko koi value ya data store karna. Jab aap variable ko kisi value se assign karte ho, toh Python uss value ko memory mein store karta hai aur uss memory location ko ek naam ya identifier de deta hai jo aapne variable ke liye diya hai. Yeh naam future mein uss value ko access karne ke kaam aata hai.\n",
    "\n",
    "Dynamic Typing: Python mein variables dynamically typed hote hain, iska matlab aapko pehle se uska type define karne ki zaroorat nahi hai. Python khud hi variable ki value ke basis pe type decide kar leta hai.\n",
    "\n",
    "Mutable aur Immutable Types: Python mein kuch data types (like lists) mutable hote hain, yaani aap unko assign karne ke baad bhi change kar sakte hain bina naye variable banaye. Kuch types (like numbers aur strings) immutable hote hain, jinka value change karne ke liye naya variable banega.\n",
    "\n",
    "Memory Reference: Jab aap variable assign karte hain, toh woh variable sirf memory location ko point karta hai jisme value stored hai. Yeh approach efficient memory management ke liye hoti hai, jisse same values ke liye multiple copies nahi banti hain.\n",
    "\n",
    "Re-assignment Allowed: Python mein aap kisi bhi variable ko dubara assign kar sakte hain, aur woh nayi value ko store karne lagega. Purani value automatically discard ho jaati hai agar usse koi aur reference na kar raha ho."
   ]
  },
  {
   "cell_type": "markdown",
   "id": "a560cf28-060e-440b-9766-c258682e5c7c",
   "metadata": {},
   "source": [
    "# THANKS"
   ]
  },
  {
   "cell_type": "code",
   "execution_count": null,
   "id": "30b4b254-b1b1-42a4-8c39-404a26d65954",
   "metadata": {},
   "outputs": [],
   "source": []
  }
 ],
 "metadata": {
  "kernelspec": {
   "display_name": "Python 3 (ipykernel)",
   "language": "python",
   "name": "python3"
  },
  "language_info": {
   "codemirror_mode": {
    "name": "ipython",
    "version": 3
   },
   "file_extension": ".py",
   "mimetype": "text/x-python",
   "name": "python",
   "nbconvert_exporter": "python",
   "pygments_lexer": "ipython3",
   "version": "3.11.7"
  }
 },
 "nbformat": 4,
 "nbformat_minor": 5
}
